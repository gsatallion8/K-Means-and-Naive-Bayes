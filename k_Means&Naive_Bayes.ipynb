{
 "cells": [
  {
   "cell_type": "code",
   "execution_count": 19,
   "metadata": {},
   "outputs": [],
   "source": [
    "%matplotlib inline\n",
    "import numpy as np\n",
    "from numpy import linalg as LA\n",
    "import tensorflow as tf\n",
    "import matplotlib.pyplot as plt"
   ]
  },
  {
   "cell_type": "code",
   "execution_count": 135,
   "metadata": {},
   "outputs": [],
   "source": [
    "def norm(x, z):\n",
    "    \n",
    "    value = np.zeros(z.shape[0])\n",
    "    for i in range(z.shape[0]):\n",
    "        value[i] = LA.norm(x - z[i])\n",
    "    \n",
    "    return value"
   ]
  },
  {
   "cell_type": "code",
   "execution_count": 136,
   "metadata": {},
   "outputs": [],
   "source": [
    "def K_Means_Clustering(X, k, iter_max):\n",
    "    \n",
    "    z = np.zeros([k, X.shape[1]])\n",
    "    for i in range(k):\n",
    "        z[i,:] = np.random.uniform(X.min(axis=0), X.max(axis=0), X.shape[1])\n",
    "    \n",
    "    for _ in range(iter_max):\n",
    "        z_new = np.zeros([k, X.shape[1]])\n",
    "        count = np.zeros(k)\n",
    "        for i in range(X.shape[0]):\n",
    "            j = np.argmin(norm(X[i,:], z))\n",
    "            z_new[j,:] += X[i,:]\n",
    "            count[j] += 1\n",
    "        \n",
    "        for j in range(k):\n",
    "            if(count[j]!=0):\n",
    "                z[j,:] = z_new[j,:]/count[j]\n",
    "        \n",
    "    y = np.zeros(X.shape[0])\n",
    "    for i in range(X.shape[0]):\n",
    "        y[i] = np.argmin(norm(X[i,:], z))\n",
    "    \n",
    "    return y, z"
   ]
  },
  {
   "cell_type": "code",
   "execution_count": 142,
   "metadata": {},
   "outputs": [
    {
     "data": {
      "image/png": "[encoded data removed]",
      "text/plain": [
       "<matplotlib.figure.Figure at 0x7efbb965b6a0>"
      ]
     },
     "metadata": {},
     "output_type": "display_data"
    }
   ],
   "source": [
    "input_data = np.loadtxt(\"Old Faithful data.txt\", skiprows = 1)\n",
    "\n",
    "input_data = input_data[:,1:3]\n",
    "\n",
    "labels, means = K_Means_Clustering(input_data, 2, 10)\n",
    "\n",
    "for i in range(input_data.shape[0]):\n",
    "    if labels[i] == 0:\n",
    "        plt.scatter(input_data[i,0], input_data[i,1], color = 'r')\n",
    "    else:\n",
    "        plt.scatter(input_data[i,0], input_data[i,1], color = 'g')\n",
    "\n",
    "plt.xlabel('eruptions')\n",
    "plt.ylabel('waiting')\n",
    "plt.show()"
   ]
  },
  {
   "cell_type": "code",
   "execution_count": 264,
   "metadata": {},
   "outputs": [],
   "source": [
    "class NaiveBayes:\n",
    "    def __init__(self, prior=None):\n",
    "        self.prior = prior\n",
    "        self.likelihood = None\n",
    "    \n",
    "    def train(self, data):\n",
    "        self.classes = np.unique(data['labels'])\n",
    "        if(self.prior == None):\n",
    "            self.prior = np.sum(np.equal(data['labels'], self.classes.reshape(-1,1)), axis=1)\n",
    "            self.prior = self.prior/np.sum(self.prior)\n",
    "        \n",
    "        self.class_mean = np.zeros([self.classes.shape[0], data['features'].shape[1]])\n",
    "        self.class_stdev = np.zeros([self.classes.shape[0], data['features'].shape[1]])\n",
    "        for i in range(self.classes.shape[0]):\n",
    "            class_indices = np.where(data['labels'] == self.classes[i])[0]\n",
    "            for j in range(data['features'].shape[1]):\n",
    "                self.class_mean[i,j] = np.mean(data['features'][class_indices,j])\n",
    "                self.class_stdev[i,j] = np.std(data['features'][class_indices,j])\n",
    "    \n",
    "    def predict(self, data):\n",
    "        \n",
    "        pdf = np.zeros([data.shape[0], self.classes.shape[0]])\n",
    "        label = np.zeros(data.shape[0])\n",
    "        for i in range(data.shape[0]):\n",
    "            pdf[i,:] = self.prior\n",
    "            for j in range(self.classes.shape[0]):\n",
    "                for k in range(data.shape[1]):\n",
    "                    pdf[i,j] *= np.exp(-(data[i,k]-self.class_mean[j,k])**2/(2*self.class_stdev[j,k]**2))/self.class_stdev[j,k]\n",
    "                \n",
    "            label[i] = np.argmax(pdf[i,:])\n",
    "            \n",
    "        return label"
   ]
  },
  {
   "cell_type": "code",
   "execution_count": 265,
   "metadata": {},
   "outputs": [],
   "source": [
    "data = {'features': input_data, 'labels': labels}\n",
    "\n",
    "clf = NaiveBayes()\n",
    "\n",
    "clf.train(data)"
   ]
  },
  {
   "cell_type": "code",
   "execution_count": 266,
   "metadata": {},
   "outputs": [],
   "source": [
    "prediction = clf.predict(input_data)"
   ]
  },
  {
   "cell_type": "code",
   "execution_count": 277,
   "metadata": {},
   "outputs": [
    {
     "data": {
      "text/plain": [
       "98.16176470588235"
      ]
     },
     "execution_count": 277,
     "metadata": {},
     "output_type": "execute_result"
    }
   ],
   "source": [
    "np.sum(prediction == labels)/np.sum(labels == labels)*100"
   ]
  },
  {
   "cell_type": "code",
   "execution_count": 273,
   "metadata": {},
   "outputs": [],
   "source": [
    "gaussian_mean = np.zeros([clf.classes.shape[0], input_data.shape[1]])\n",
    "gaussian_variance = np.zeros([clf.classes.shape[0], input_data.shape[1], input_data.shape[1]])\n",
    "for j in range(clf.classes.shape[0]):\n",
    "    class_indices = np.where(labels == clf.classes[j])[0]\n",
    "    for k in range(input_data.shape[1]):\n",
    "        gaussian_mean[j,k] = np.mean(input_data[class_indices,k])\n",
    "    \n",
    "    for k in range(input_data.shape[1]):\n",
    "        gaussian_mean[j,k] = np.mean(input_data[class_indices,k])\n",
    "        for l in range(input_data.shape[1]):\n",
    "            gaussian_variance[j,k,l] = np.sum((input_data[class_indices,k] - gaussian_mean[j,k])*(input_data[class_indices,l] - gaussian_mean[j,l]))/len(class_indices)\n",
    "            "
   ]
  },
  {
   "cell_type": "code",
   "execution_count": 274,
   "metadata": {},
   "outputs": [
    {
     "data": {
      "text/plain": [
       "array([[ 4.29793023, 80.28488372],\n",
       "       [ 2.09433   , 54.75      ]])"
      ]
     },
     "execution_count": 274,
     "metadata": {},
     "output_type": "execute_result"
    }
   ],
   "source": [
    "gaussian_mean"
   ]
  },
  {
   "cell_type": "code",
   "execution_count": 276,
   "metadata": {},
   "outputs": [
    {
     "data": {
      "text/plain": [
       "array([[[ 0.17761717,  0.76310127],\n",
       "        [ 0.76310127, 31.48279475]],\n",
       "\n",
       "       [[ 0.1542787 ,  0.9856625 ],\n",
       "        [ 0.9856625 , 34.4075    ]]])"
      ]
     },
     "execution_count": 276,
     "metadata": {},
     "output_type": "execute_result"
    }
   ],
   "source": [
    "gaussian_variance"
   ]
  },
  {
   "cell_type": "code",
   "execution_count": 297,
   "metadata": {},
   "outputs": [
    {
     "data": {
      "image/png": "[encoded data removed]",
      "text/plain": [
       "<matplotlib.figure.Figure at 0x7efbb2a8b8d0>"
      ]
     },
     "metadata": {},
     "output_type": "display_data"
    }
   ],
   "source": [
    "from scipy.stats import multivariate_normal as mvn\n",
    "import matplotlib.cm as cm\n",
    "\n",
    "cov = gaussian_variance[0,:,:]\n",
    "mu = gaussian_mean[0,:]\n",
    "\n",
    "# Generate grid points\n",
    "x, y = np.meshgrid(np.linspace(3.2,5.5,100),np.linspace(60,100,100))\n",
    "xy = np.column_stack([x.flat, y.flat])\n",
    "\n",
    "# density values at the grid points\n",
    "Z1 = mvn.pdf(xy, mu, cov).reshape(x.shape)\n",
    "\n",
    "plt.contour(x, y, Z1, [0.005, 0.025, 0.05], colors='b')\n",
    "\n",
    "cov = gaussian_variance[1,:,:]\n",
    "mu = gaussian_mean[1,:]\n",
    "\n",
    "# Generate grid points\n",
    "x, y = np.meshgrid(np.linspace(1.5,3.5,100),np.linspace(40,70,100))\n",
    "xy = np.column_stack([x.flat, y.flat])\n",
    "\n",
    "# density values at the grid points\n",
    "Z2 = mvn.pdf(xy, mu, cov).reshape(x.shape)\n",
    "\n",
    "plt.contour(x, y, Z, [0.00074, 0.00075, 0.00076], colors='b')\n",
    "\n",
    "for i in range(input_data.shape[0]):\n",
    "    if labels[i] == 0:\n",
    "        plt.scatter(input_data[i,0], input_data[i,1], color = 'r')\n",
    "    else:\n",
    "        plt.scatter(input_data[i,0], input_data[i,1], color = 'g')\n",
    "\n",
    "plt.xlabel('eruptions')\n",
    "plt.ylabel('waiting')\n",
    "\n",
    "plt.show()"
   ]
  },
  {
   "cell_type": "code",
   "execution_count": null,
   "metadata": {},
   "outputs": [],
   "source": []
  }
 ],
 "metadata": {
  "kernelspec": {
   "display_name": "Python 3",
   "language": "python",
   "name": "python3"
  },
  "language_info": {
   "codemirror_mode": {
    "name": "ipython",
    "version": 3
   },
   "file_extension": ".py",
   "mimetype": "text/x-python",
   "name": "python",
   "nbconvert_exporter": "python",
   "pygments_lexer": "ipython3",
   "version": "3.5.2"
  }
 },
 "nbformat": 4,
 "nbformat_minor": 2
}
